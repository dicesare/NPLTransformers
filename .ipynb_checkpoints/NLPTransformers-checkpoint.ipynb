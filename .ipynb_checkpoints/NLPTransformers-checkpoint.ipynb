{
 "cells": [
  {
   "metadata": {
    "ExecuteTime": {
     "end_time": "2024-07-23T12:15:01.161626Z",
     "start_time": "2024-07-23T12:15:01.151046Z"
    }
   },
   "cell_type": "code",
   "source": [
    "import torch\n",
    "\n",
    "# Vérifie si CUDA est disponible et donc si un GPU est utilisable\n",
    "if torch.cuda.is_available():\n",
    "    print(f\"GPU disponible : {torch.cuda.get_device_name(0)}\")\n",
    "else:\n",
    "    print(\"GPU non disponible, PyTorch va utiliser le CPU.\")\n"
   ],
   "id": "56392ea22727ba58",
   "outputs": [
    {
     "name": "stdout",
     "output_type": "stream",
     "text": [
      "GPU non disponible, PyTorch va utiliser le CPU.\n"
     ]
    }
   ],
   "execution_count": 26
  },
  {
   "metadata": {
    "ExecuteTime": {
     "end_time": "2024-07-23T12:13:31.356782Z",
     "start_time": "2024-07-23T12:13:29.051795Z"
    }
   },
   "cell_type": "code",
   "source": "!jupyter notebook list",
   "id": "5eca523f37092b76",
   "outputs": [
    {
     "name": "stdout",
     "output_type": "stream",
     "text": [
      "Currently running servers:\n",
      "http://localhost:8888/?token=f445187d6d8e3062e6b02891497b283b6c380a303db40a65 :: C:\\Users\\Roc-Antony.COCO\\PycharmProjects\\LearnLLM\n"
     ]
    }
   ],
   "execution_count": 24
  },
  {
   "metadata": {
    "ExecuteTime": {
     "end_time": "2024-07-23T12:13:58.570120Z",
     "start_time": "2024-07-23T12:13:57.687533Z"
    }
   },
   "cell_type": "code",
   "source": "!ngrok logs http 8888",
   "id": "2e4e70430d344b8f",
   "outputs": [
    {
     "name": "stderr",
     "output_type": "stream",
     "text": [
      "ngrok - tunnel local ports to public URLs and inspect traffic\n",
      "\n",
      "USAGE:\n",
      "  ngrok [command] [flags]\n",
      "\n",
      "AUTHOR:\n",
      "  ngrok - <support@ngrok.com>\n",
      "\n",
      "COMMANDS: \n",
      "  config          update or migrate ngrok's configuration file\n",
      "  http            start an HTTP tunnel\n",
      "  tcp             start a TCP tunnel\n",
      "  tunnel          start a tunnel for use with a tunnel-group backend\n",
      "\n",
      "EXAMPLES: \n",
      "  ngrok http 80                                                 # secure public URL for port 80 web server\n",
      "  ngrok http --domain baz.ngrok.dev 8080                        # port 8080 available at baz.ngrok.dev\n",
      "  ngrok tcp 22                                                  # tunnel arbitrary TCP traffic to port 22\n",
      "  ngrok http 80 --oauth=google --oauth-allow-email=foo@foo.com  # secure your app with oauth\n",
      "\n",
      "Paid Features: \n",
      "  ngrok http 80 --domain mydomain.com                           # run ngrok with your own custom domain\n",
      "  ngrok http 80 --allow-cidr 2600:8c00::a03c:91ee:fe69:9695/32  # run ngrok with IP policy restrictions\n",
      "  Upgrade your account at https://dashboard.ngrok.com/billing/subscription to access paid features\n",
      "\n",
      "Upgrade your account at https://dashboard.ngrok.com/billing/subscription to access paid features\n",
      "\n",
      "Flags:\n",
      "  -h, --help      help for ngrok\n",
      "\n",
      "Use \"ngrok [command] --help\" for more information about a command.\n"
     ]
    }
   ],
   "execution_count": 25
  }
 ],
 "metadata": {
  "kernelspec": {
   "display_name": "Python 3",
   "language": "python",
   "name": "python3"
  },
  "language_info": {
   "codemirror_mode": {
    "name": "ipython",
    "version": 2
   },
   "file_extension": ".py",
   "mimetype": "text/x-python",
   "name": "python",
   "nbconvert_exporter": "python",
   "pygments_lexer": "ipython2",
   "version": "2.7.6"
  }
 },
 "nbformat": 4,
 "nbformat_minor": 5
}
