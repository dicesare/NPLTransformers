{
 "cells": [
  {
   "cell_type": "code",
   "execution_count": 26,
   "id": "56392ea22727ba58",
   "metadata": {
    "ExecuteTime": {
     "end_time": "2024-07-23T12:15:01.161626Z",
     "start_time": "2024-07-23T12:15:01.151046Z"
    }
   },
   "outputs": [
    {
     "name": "stdout",
     "output_type": "stream",
     "text": [
      "GPU non disponible, PyTorch va utiliser le CPU.\n"
     ]
    }
   ],
   "source": [
    "import torch\n",
    "\n",
    "# Vérifie si CUDA est disponible et donc si un GPU est utilisable\n",
    "if torch.cuda.is_available():\n",
    "    print(f\"GPU disponible : {torch.cuda.get_device_name(0)}\")\n",
    "else:\n",
    "    print(\"GPU non disponible, PyTorch va utiliser le CPU.\")\n"
   ]
  },
  {
   "cell_type": "code",
   "execution_count": 24,
   "id": "5eca523f37092b76",
   "metadata": {
    "ExecuteTime": {
     "end_time": "2024-07-23T12:13:31.356782Z",
     "start_time": "2024-07-23T12:13:29.051795Z"
    }
   },
   "outputs": [
    {
     "name": "stdout",
     "output_type": "stream",
     "text": [
      "Currently running servers:\n",
      "http://localhost:8888/?token=f445187d6d8e3062e6b02891497b283b6c380a303db40a65 :: C:\\Users\\Roc-Antony.COCO\\PycharmProjects\\LearnLLM\n"
     ]
    }
   ],
   "source": [
    "!jupyter notebook list"
   ]
  },
  {
   "metadata": {},
   "cell_type": "code",
   "outputs": [],
   "execution_count": null,
   "source": "",
   "id": "314c086dd3a28fba"
  }
 ],
 "metadata": {
  "kernelspec": {
   "display_name": "Python 3 (ipykernel)",
   "language": "python",
   "name": "python3"
  },
  "language_info": {
   "codemirror_mode": {
    "name": "ipython",
    "version": 3
   },
   "file_extension": ".py",
   "mimetype": "text/x-python",
   "name": "python",
   "nbconvert_exporter": "python",
   "pygments_lexer": "ipython3",
   "version": "3.12.3"
  }
 },
 "nbformat": 4,
 "nbformat_minor": 5
}
